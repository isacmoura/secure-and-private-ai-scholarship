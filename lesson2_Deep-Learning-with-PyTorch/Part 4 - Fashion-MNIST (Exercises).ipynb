{
 "cells": [
  {
   "cell_type": "markdown",
   "metadata": {},
   "source": [
    "# Classifying Fashion-MNIST\n",
    "\n",
    "Now it's your turn to build and train a neural network. You'll be using the [Fashion-MNIST dataset](https://github.com/zalandoresearch/fashion-mnist), a drop-in replacement for the MNIST dataset. MNIST is actually quite trivial with neural networks where you can easily achieve better than 97% accuracy. Fashion-MNIST is a set of 28x28 greyscale images of clothes. It's more complex than MNIST, so it's a better representation of the actual performance of your network, and a better representation of datasets you'll use in the real world.\n",
    "\n",
    "<img src='../assets/fashion-mnist-sprite.png' width=500px>\n",
    "\n",
    "In this notebook, you'll build your own neural network. For the most part, you could just copy and paste the code from Part 3, but you wouldn't be learning. It's important for you to write the code yourself and get it to work. Feel free to consult the previous notebooks though as you work through this.\n",
    "\n",
    "First off, let's load the dataset through torchvision."
   ]
  },
  {
   "cell_type": "code",
   "execution_count": 1,
   "metadata": {},
   "outputs": [
    {
     "name": "stderr",
     "output_type": "stream",
     "text": [
      "\r",
      "0it [00:00, ?it/s]"
     ]
    },
    {
     "name": "stdout",
     "output_type": "stream",
     "text": [
      "Downloading http://fashion-mnist.s3-website.eu-central-1.amazonaws.com/train-images-idx3-ubyte.gz to /home/isacmoura/.pytorch/F_MNIST_data/FashionMNIST/raw/train-images-idx3-ubyte.gz\n"
     ]
    },
    {
     "name": "stderr",
     "output_type": "stream",
     "text": [
      "100%|█████████▉| 26329088/26421880 [00:27<00:00, 1607138.26it/s]"
     ]
    },
    {
     "name": "stdout",
     "output_type": "stream",
     "text": [
      "Extracting /home/isacmoura/.pytorch/F_MNIST_data/FashionMNIST/raw/train-images-idx3-ubyte.gz to /home/isacmoura/.pytorch/F_MNIST_data/FashionMNIST/raw\n"
     ]
    },
    {
     "name": "stderr",
     "output_type": "stream",
     "text": [
      "\n",
      "0it [00:00, ?it/s]\u001b[A"
     ]
    },
    {
     "name": "stdout",
     "output_type": "stream",
     "text": [
      "Downloading http://fashion-mnist.s3-website.eu-central-1.amazonaws.com/train-labels-idx1-ubyte.gz to /home/isacmoura/.pytorch/F_MNIST_data/FashionMNIST/raw/train-labels-idx1-ubyte.gz\n"
     ]
    },
    {
     "name": "stderr",
     "output_type": "stream",
     "text": [
      "\n",
      "  0%|          | 0/29515 [00:00<?, ?it/s]\u001b[A\n",
      " 56%|█████▌    | 16384/29515 [00:00<00:00, 73884.52it/s]\u001b[A\n",
      "32768it [00:00, 43411.90it/s]                           \u001b[A\n",
      "0it [00:00, ?it/s]\u001b[A"
     ]
    },
    {
     "name": "stdout",
     "output_type": "stream",
     "text": [
      "Extracting /home/isacmoura/.pytorch/F_MNIST_data/FashionMNIST/raw/train-labels-idx1-ubyte.gz to /home/isacmoura/.pytorch/F_MNIST_data/FashionMNIST/raw\n",
      "Downloading http://fashion-mnist.s3-website.eu-central-1.amazonaws.com/t10k-images-idx3-ubyte.gz to /home/isacmoura/.pytorch/F_MNIST_data/FashionMNIST/raw/t10k-images-idx3-ubyte.gz\n"
     ]
    },
    {
     "name": "stderr",
     "output_type": "stream",
     "text": [
      "\n",
      "  0%|          | 0/4422102 [00:00<?, ?it/s]\u001b[A\n",
      "  0%|          | 16384/4422102 [00:00<01:00, 73216.20it/s]\u001b[A\n",
      "  1%|          | 49152/4422102 [00:01<00:50, 86184.54it/s]\u001b[A\n",
      "  2%|▏         | 106496/4422102 [00:01<00:40, 107525.57it/s]\u001b[A\n",
      "  4%|▎         | 163840/4422102 [00:01<00:33, 128082.60it/s]\u001b[A\n",
      "  8%|▊         | 360448/4422102 [00:01<00:23, 173398.39it/s]\u001b[A\n",
      " 11%|█         | 491520/4422102 [00:01<00:17, 219897.42it/s]\u001b[A\n",
      " 14%|█▍        | 622592/4422102 [00:02<00:14, 270016.68it/s]\u001b[A\n",
      " 17%|█▋        | 761856/4422102 [00:02<00:11, 325245.25it/s]\u001b[A\n",
      " 20%|██        | 884736/4422102 [00:02<00:10, 349746.25it/s]\u001b[A\n",
      " 24%|██▎       | 1048576/4422102 [00:02<00:07, 435235.89it/s]\u001b[A\n",
      " 26%|██▌       | 1155072/4422102 [00:03<00:07, 447111.65it/s]\u001b[A\n",
      " 29%|██▊       | 1261568/4422102 [00:03<00:06, 455903.92it/s]\u001b[A\n",
      " 31%|███       | 1376256/4422102 [00:03<00:06, 471920.86it/s]\u001b[A\n",
      " 34%|███▍      | 1499136/4422102 [00:03<00:05, 492781.13it/s]\u001b[A\n",
      " 36%|███▋      | 1613824/4422102 [00:03<00:05, 499255.46it/s]\u001b[A\n",
      " 39%|███▉      | 1736704/4422102 [00:04<00:05, 513921.96it/s]\u001b[A\n",
      " 42%|████▏     | 1859584/4422102 [00:04<00:04, 524128.34it/s]\u001b[A\n",
      " 45%|████▍     | 1982464/4422102 [00:04<00:04, 532113.86it/s]\u001b[A\n",
      " 48%|████▊     | 2105344/4422102 [00:04<00:04, 538985.52it/s]\u001b[A\n",
      " 50%|█████     | 2228224/4422102 [00:04<00:03, 582273.94it/s]\u001b[A\n",
      " 52%|█████▏    | 2293760/4422102 [00:05<00:03, 568380.95it/s]\u001b[A\n",
      " 53%|█████▎    | 2359296/4422102 [00:05<00:04, 510843.40it/s]\u001b[A\n",
      " 56%|█████▌    | 2482176/4422102 [00:05<00:03, 602284.64it/s]\u001b[A\n",
      " 58%|█████▊    | 2555904/4422102 [00:05<00:03, 537065.86it/s]\u001b[A\n",
      " 59%|█████▉    | 2621440/4422102 [00:05<00:03, 482445.83it/s]\u001b[A\n",
      " 62%|██████▏   | 2736128/4422102 [00:05<00:02, 579238.24it/s]\u001b[A\n",
      " 64%|██████▎   | 2809856/4422102 [00:06<00:03, 521877.91it/s]\u001b[A\n",
      " 65%|██████▌   | 2875392/4422102 [00:06<00:03, 474398.10it/s]\u001b[A\n",
      " 68%|██████▊   | 2990080/4422102 [00:06<00:02, 532530.68it/s]\u001b[A\n",
      " 69%|██████▉   | 3055616/4422102 [00:06<00:02, 535678.26it/s]\u001b[A\n",
      " 71%|███████   | 3121152/4422102 [00:06<00:02, 495838.48it/s]\u001b[A\n",
      " 73%|███████▎  | 3244032/4422102 [00:06<00:02, 511360.25it/s]\u001b[A\n",
      " 76%|███████▌  | 3366912/4422102 [00:06<00:01, 604506.76it/s]\u001b[A\n",
      " 78%|███████▊  | 3440640/4422102 [00:07<00:01, 532993.60it/s]\u001b[A\n",
      " 79%|███████▉  | 3506176/4422102 [00:07<00:01, 486832.94it/s]\u001b[A\n",
      " 82%|████████▏ | 3620864/4422102 [00:07<00:01, 581488.70it/s]\u001b[A\n",
      " 84%|████████▎ | 3694592/4422102 [00:07<00:01, 523776.90it/s]\u001b[A\n",
      " 85%|████████▌ | 3760128/4422102 [00:07<00:01, 478582.70it/s]\u001b[A\n",
      " 88%|████████▊ | 3883008/4422102 [00:07<00:01, 498928.89it/s]\u001b[A\n",
      " 91%|█████████ | 4005888/4422102 [00:08<00:00, 599394.68it/s]\u001b[A\n",
      " 92%|█████████▏| 4079616/4422102 [00:08<00:00, 538219.17it/s]\u001b[A\n",
      " 94%|█████████▎| 4145152/4422102 [00:08<00:00, 567988.83it/s]\u001b[A\n",
      " 95%|█████████▌| 4210688/4422102 [00:08<00:00, 557155.46it/s]\u001b[A\n",
      " 97%|█████████▋| 4284416/4422102 [00:08<00:00, 518165.27it/s]\u001b[A\n",
      "100%|█████████▉| 4407296/4422102 [00:08<00:00, 619944.78it/s]\u001b[A\n",
      "\n",
      "0it [00:00, ?it/s]\u001b[A\u001b[A"
     ]
    },
    {
     "name": "stdout",
     "output_type": "stream",
     "text": [
      "Extracting /home/isacmoura/.pytorch/F_MNIST_data/FashionMNIST/raw/t10k-images-idx3-ubyte.gz to /home/isacmoura/.pytorch/F_MNIST_data/FashionMNIST/raw\n",
      "Downloading http://fashion-mnist.s3-website.eu-central-1.amazonaws.com/t10k-labels-idx1-ubyte.gz to /home/isacmoura/.pytorch/F_MNIST_data/FashionMNIST/raw/t10k-labels-idx1-ubyte.gz\n"
     ]
    },
    {
     "name": "stderr",
     "output_type": "stream",
     "text": [
      "\n",
      "\n",
      "  0%|          | 0/5148 [00:00<?, ?it/s]\u001b[A\u001b[A\n",
      "\n",
      "8192it [00:00, 15287.18it/s]            \u001b[A\u001b[A"
     ]
    },
    {
     "name": "stdout",
     "output_type": "stream",
     "text": [
      "Extracting /home/isacmoura/.pytorch/F_MNIST_data/FashionMNIST/raw/t10k-labels-idx1-ubyte.gz to /home/isacmoura/.pytorch/F_MNIST_data/FashionMNIST/raw\n",
      "Processing...\n",
      "Done!\n"
     ]
    }
   ],
   "source": [
    "import torch\n",
    "from torchvision import datasets, transforms\n",
    "import helper\n",
    "\n",
    "# Define a transform to normalize the data\n",
    "transform = transforms.Compose([transforms.ToTensor(),\n",
    "                                transforms.Normalize((0.5,), (0.5,))])\n",
    "# Download and load the training data\n",
    "trainset = datasets.FashionMNIST('~/.pytorch/F_MNIST_data/', download=True, train=True, transform=transform)\n",
    "trainloader = torch.utils.data.DataLoader(trainset, batch_size=64, shuffle=True)\n",
    "\n",
    "# Download and load the test data\n",
    "testset = datasets.FashionMNIST('~/.pytorch/F_MNIST_data/', download=True, train=False, transform=transform)\n",
    "testloader = torch.utils.data.DataLoader(testset, batch_size=64, shuffle=True)"
   ]
  },
  {
   "cell_type": "markdown",
   "metadata": {},
   "source": [
    "Here we can see one of the images."
   ]
  },
  {
   "cell_type": "code",
   "execution_count": 2,
   "metadata": {},
   "outputs": [
    {
     "data": {
      "image/png": "[encoded data removed]",
      "text/plain": [
       "<Figure size 432x288 with 1 Axes>"
      ]
     },
     "metadata": {
      "needs_background": "light"
     },
     "output_type": "display_data"
    },
    {
     "name": "stderr",
     "output_type": "stream",
     "text": [
      "26427392it [00:39, 1607138.26it/s]                              \n",
      "4423680it [00:21, 619944.78it/s]                             \u001b[A"
     ]
    }
   ],
   "source": [
    "image, label = next(iter(trainloader))\n",
    "helper.imshow(image[0,:]);"
   ]
  },
  {
   "cell_type": "markdown",
   "metadata": {},
   "source": [
    "## Building the network\n",
    "\n",
    "Here you should define your network. As with MNIST, each image is 28x28 which is a total of 784 pixels, and there are 10 classes. You should include at least one hidden layer. We suggest you use ReLU activations for the layers and to return the logits or log-softmax from the forward pass. It's up to you how many layers you add and the size of those layers."
   ]
  },
  {
   "cell_type": "code",
   "execution_count": 10,
   "metadata": {},
   "outputs": [],
   "source": [
    "from torch import nn, optim\n",
    "import torch.nn.functional as F"
   ]
  },
  {
   "cell_type": "code",
   "execution_count": 20,
   "metadata": {},
   "outputs": [],
   "source": [
    "# TODO: Define your network architecture here\n",
    "\n",
    "class Network(nn.Module):\n",
    "    def __init__(self):\n",
    "        super().__init__()\n",
    "        self.fc1 = nn.Linear(784, 128)\n",
    "        self.fc2 = nn.Linear(128, 64)\n",
    "        self.fc3 = nn.Linear(64, 10)\n",
    "    \n",
    "    def forward(self, x):\n",
    "        x = x.view(x.shape[0], -1)\n",
    "        \n",
    "        x = F.relu(self.fc1(x))\n",
    "        x = F.relu(self.fc2(x))\n",
    "        \n",
    "        x = F.log_softmax(self.fc3(x), dim=1)\n",
    "        \n",
    "        return x"
   ]
  },
  {
   "cell_type": "markdown",
   "metadata": {},
   "source": [
    "# Train the network\n",
    "\n",
    "Now you should create your network and train it. First you'll want to define [the criterion](http://pytorch.org/docs/master/nn.html#loss-functions) ( something like `nn.CrossEntropyLoss`) and [the optimizer](http://pytorch.org/docs/master/optim.html) (typically `optim.SGD` or `optim.Adam`).\n",
    "\n",
    "Then write the training code. Remember the training pass is a fairly straightforward process:\n",
    "\n",
    "* Make a forward pass through the network to get the logits \n",
    "* Use the logits to calculate the loss\n",
    "* Perform a backward pass through the network with `loss.backward()` to calculate the gradients\n",
    "* Take a step with the optimizer to update the weights\n",
    "\n",
    "By adjusting the hyperparameters (hidden units, learning rate, etc), you should be able to get the training loss below 0.4."
   ]
  },
  {
   "cell_type": "code",
   "execution_count": 21,
   "metadata": {},
   "outputs": [],
   "source": [
    "# TODO: Create the network, define the criterion and optimizer\n",
    "\n",
    "model = Network()\n",
    "criterion = nn.NLLLoss()\n",
    "optimizer = torch.optim.SGD(model.parameters(), lr=0.01)"
   ]
  },
  {
   "cell_type": "code",
   "execution_count": 22,
   "metadata": {},
   "outputs": [
    {
     "name": "stdout",
     "output_type": "stream",
     "text": [
      "Training loss: 0.982127417569984\n",
      "Training loss: 0.5456872451216427\n",
      "Training loss: 0.4822324980169471\n",
      "Training loss: 0.4505006495092723\n",
      "Training loss: 0.4278086577810204\n"
     ]
    }
   ],
   "source": [
    "# TODO: Train the network here\n",
    "\n",
    "epochs = 5\n",
    "\n",
    "for e in range(epochs):\n",
    "    running_loss = 0\n",
    "    \n",
    "    for images, labels in trainloader:\n",
    "        \n",
    "        logits = model(images)\n",
    "        loss = criterion(logits, labels)\n",
    "        \n",
    "        optimizer.zero_grad()\n",
    "\n",
    "        loss.backward()\n",
    "        optimizer.step()\n",
    "        \n",
    "        running_loss += loss.item()\n",
    "        \n",
    "    else:\n",
    "        print(f\"Training loss: {running_loss/len(trainloader)}\")"
   ]
  },
  {
   "cell_type": "code",
   "execution_count": 25,
   "metadata": {},
   "outputs": [
    {
     "data": {
      "image/png": "[encoded data removed]",
      "text/plain": [
       "<Figure size 432x648 with 2 Axes>"
      ]
     },
     "metadata": {
      "image/png": {
       "height": 216,
       "width": 424
      },
      "needs_background": "light"
     },
     "output_type": "display_data"
    }
   ],
   "source": [
    "%matplotlib inline\n",
    "%config InlineBackend.figure_format = 'retina'\n",
    "\n",
    "import helper\n",
    "\n",
    "# Test out your network!\n",
    "\n",
    "dataiter = iter(testloader)\n",
    "images, labels = dataiter.next()\n",
    "img = images[0]\n",
    "# Convert 2D image to 1D vector\n",
    "img = img.resize_(1, 784)\n",
    "\n",
    "# TODO: Calculate the class probabilities (softmax) for img\n",
    "ps = torch.exp(model(img))\n",
    "\n",
    "# Plot the image and probabilities\n",
    "helper.view_classify(img.resize_(1, 28, 28), ps, version='Fashion')"
   ]
  }
 ],
 "metadata": {
  "kernelspec": {
   "display_name": "Python 3",
   "language": "python",
   "name": "python3"
  },
  "language_info": {
   "codemirror_mode": {
    "name": "ipython",
    "version": 3
   },
   "file_extension": ".py",
   "mimetype": "text/x-python",
   "name": "python",
   "nbconvert_exporter": "python",
   "pygments_lexer": "ipython3",
   "version": "3.7.3"
  }
 },
 "nbformat": 4,
 "nbformat_minor": 2
}
